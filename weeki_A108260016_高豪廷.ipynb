{
  "nbformat": 4,
  "nbformat_minor": 0,
  "metadata": {
    "colab": {
      "name": "weeki.A108260016.高豪廷.ipynb",
      "provenance": [],
      "collapsed_sections": []
    },
    "kernelspec": {
      "name": "python3",
      "display_name": "Python 3"
    }
  },
  "cells": [
    {
      "cell_type": "code",
      "metadata": {
        "id": "03xP7VvqHZt_",
        "colab_type": "code",
        "colab": {
          "base_uri": "https://localhost:8080/",
          "height": 51
        },
        "outputId": "7fb25c08-8987-4f1c-e6a2-2d8a6e51b873"
      },
      "source": [
        "name = input('請問貴姓大名?')\n",
        "print('你好，', name)"
      ],
      "execution_count": 3,
      "outputs": [
        {
          "output_type": "stream",
          "text": [
            "請問貴姓大名?高豪廷\n",
            "你好， 高豪廷\n"
          ],
          "name": "stdout"
        }
      ]
    },
    {
      "cell_type": "code",
      "metadata": {
        "id": "d_FbJUYZOdDt",
        "colab_type": "code",
        "colab": {
          "base_uri": "https://localhost:8080/",
          "height": 51
        },
        "outputId": "3e3199de-dd73-4554-ed7d-7b9d63bfb9c4"
      },
      "source": [
        "y = int(input('請問年紀?'))\n",
        "print('原來你', y,'歲')"
      ],
      "execution_count": 4,
      "outputs": [
        {
          "output_type": "stream",
          "text": [
            "請問年紀?18\n",
            "原來你 18 歲\n"
          ],
          "name": "stdout"
        }
      ]
    },
    {
      "cell_type": "code",
      "metadata": {
        "id": "-79fJ-Q3O4qH",
        "colab_type": "code",
        "colab": {
          "base_uri": "https://localhost:8080/",
          "height": 51
        },
        "outputId": "38e1e669-36ba-47ef-fd70-0a629edab3f0"
      },
      "source": [
        "w = float(input('請問體重?'))\n",
        "print('體重為', w)"
      ],
      "execution_count": 5,
      "outputs": [
        {
          "output_type": "stream",
          "text": [
            "請問體重?83\n",
            "體重為 83.0\n"
          ],
          "name": "stdout"
        }
      ]
    },
    {
      "cell_type": "code",
      "metadata": {
        "id": "2UW9yPRsPj1q",
        "colab_type": "code",
        "colab": {
          "base_uri": "https://localhost:8080/",
          "height": 85
        },
        "outputId": "9ed40fc1-6298-49aa-99ce-bc54a505b7d0"
      },
      "source": [
        "上衣 = int(input('請輸入上衣數量?'))\n",
        "褲子 = int(input('請輸入褲子數量?'))\n",
        "背心 = int(input('請輸入背心數量?'))\n",
        "\n",
        "總金額 = 上衣*300 + 褲子*350 + 背心*400\n",
        "print('訂購服裝的總金額為',總金額)"
      ],
      "execution_count": 6,
      "outputs": [
        {
          "output_type": "stream",
          "text": [
            "請輸入上衣數量?9\n",
            "請輸入褲子數量?25\n",
            "請輸入背心數量?34\n",
            "訂購服裝的總金額為 25050\n"
          ],
          "name": "stdout"
        }
      ]
    },
    {
      "cell_type": "code",
      "metadata": {
        "id": "K0-UDPPuRe7m",
        "colab_type": "code",
        "colab": {
          "base_uri": "https://localhost:8080/",
          "height": 51
        },
        "outputId": "d98b6eba-4c3c-4191-ee3f-65c0b1e99d1e"
      },
      "source": [
        "半徑 = float(input('請輸入半徑?'))\n",
        "PI = 3.14159\n",
        "\n",
        "圓周長 = 2 * PI * 半徑\n",
        "圓面積 = 半徑 * 半徑 * PI\n",
        "\n",
        "print('圓周長為', 圓周長,'圓面積為', 圓面積)"
      ],
      "execution_count": 7,
      "outputs": [
        {
          "output_type": "stream",
          "text": [
            "請輸入半徑?9\n",
            "圓周長為 56.54862 圓面積為 254.46878999999998\n"
          ],
          "name": "stdout"
        }
      ]
    },
    {
      "cell_type": "code",
      "metadata": {
        "id": "u9A8lCfSS5o0",
        "colab_type": "code",
        "colab": {
          "base_uri": "https://localhost:8080/",
          "height": 51
        },
        "outputId": "d2567a2e-df7a-420a-b4f2-6d7e7f456364"
      },
      "source": [
        "c = float(input('請輸入攝氏溫度?'))\n",
        "\n",
        "f = c * 9 / 5 +32\n",
        "print('華氏溫度', f)"
      ],
      "execution_count": 9,
      "outputs": [
        {
          "output_type": "stream",
          "text": [
            "請輸入攝氏溫度?25\n",
            "華氏溫度 77.0\n"
          ],
          "name": "stdout"
        }
      ]
    },
    {
      "cell_type": "code",
      "metadata": {
        "id": "b1A4kaWoUItu",
        "colab_type": "code",
        "colab": {
          "base_uri": "https://localhost:8080/",
          "height": 102
        },
        "outputId": "8b22041e-d7a5-4df4-c2a5-0e0b6fbf6f7e"
      },
      "source": [
        "money = int(input('請輸入本金?'))\n",
        "interest = float(input('請輸入年利率(%)?'))\n",
        "\n",
        "y1 = money * (1 + interest/100)\n",
        "y2 = money * ((1 + interest/100) ** 2)\n",
        "y3 = money * ((1 + interest/100) ** 3)\n",
        "\n",
        "print('第一年本利和為', y1)\n",
        "print('第二年本利和為', y2)\n",
        "print('第三年本利和為', y3)"
      ],
      "execution_count": 10,
      "outputs": [
        {
          "output_type": "stream",
          "text": [
            "請輸入本金?9250\n",
            "請輸入年利率(%)?1\n",
            "第一年本利和為 9342.5\n",
            "第二年本利和為 9435.925\n",
            "第三年本利和為 9530.28425\n"
          ],
          "name": "stdout"
        }
      ]
    },
    {
      "cell_type": "code",
      "metadata": {
        "id": "gN0udmQRWJNS",
        "colab_type": "code",
        "colab": {
          "base_uri": "https://localhost:8080/",
          "height": 85
        },
        "outputId": "6dc03cb5-0133-4492-b0ca-91fdafe13721"
      },
      "source": [
        "第一次期中考成績 = int(input('請輸入第一次期中考成績?'))\n",
        "第二次期中考成績 = int(input('請輸入第二次期中考成績?'))\n",
        "期末考成績 = int(input('請輸入期末考成績?'))\n",
        "\n",
        "總分 = 第一次期中考成績 + 第二次期中考成績 + 期末考成績\n",
        "平均 = (第一次期中考成績 + 第二次期中考成績 + 期末考成績)/3\n",
        "print('總分為', 總分,'平均為', 平均)\n",
        "\n"
      ],
      "execution_count": 15,
      "outputs": [
        {
          "output_type": "stream",
          "text": [
            "請輸入第一次期中考成績?85\n",
            "請輸入第二次期中考成績?75\n",
            "請輸入期末考成績?90\n",
            "總分為 250 平均為 83.33333333333333\n"
          ],
          "name": "stdout"
        }
      ]
    },
    {
      "cell_type": "code",
      "metadata": {
        "id": "HvnuaIR9aMlo",
        "colab_type": "code",
        "colab": {
          "base_uri": "https://localhost:8080/",
          "height": 102
        },
        "outputId": "b7900342-64a7-4855-b010-df13ca15ddf1"
      },
      "source": [
        "尺 = int(input('請輸入幾尺?'))\n",
        "print(尺,'尺')\n",
        "吋 = int(input('請輸入幾吋?'))\n",
        "print(吋,'吋')\n",
        "f = (尺*12+吋)*2.54\n",
        "print('轉換成',f,'公分')\n"
      ],
      "execution_count": 16,
      "outputs": [
        {
          "output_type": "stream",
          "text": [
            "請輸入幾尺?9\n",
            "9 尺\n",
            "請輸入幾吋?7\n",
            "7 吋\n",
            "轉換成 292.1 公分\n"
          ],
          "name": "stdout"
        }
      ]
    },
    {
      "cell_type": "code",
      "metadata": {
        "id": "iPf7s-PZdPUr",
        "colab_type": "code",
        "colab": {}
      },
      "source": [
        ""
      ],
      "execution_count": 0,
      "outputs": []
    }
  ]
}